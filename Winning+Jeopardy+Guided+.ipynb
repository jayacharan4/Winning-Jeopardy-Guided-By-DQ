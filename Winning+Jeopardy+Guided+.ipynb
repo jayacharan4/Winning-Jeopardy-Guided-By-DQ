{
 "cells": [
  {
   "cell_type": "code",
   "execution_count": 3,
   "metadata": {
    "collapsed": true
   },
   "outputs": [],
   "source": [
    "import re\n",
    "import string\n",
    "import numpy as np\n",
    "import scipy.stats as stats\n",
    "import pandas as pd\n"
   ]
  },
  {
   "cell_type": "code",
   "execution_count": 4,
   "metadata": {
    "collapsed": false
   },
   "outputs": [
    {
     "data": {
      "text/html": [
       "<div>\n",
       "<table border=\"1\" class=\"dataframe\">\n",
       "  <thead>\n",
       "    <tr style=\"text-align: right;\">\n",
       "      <th></th>\n",
       "      <th>Show Number</th>\n",
       "      <th>Air Date</th>\n",
       "      <th>Round</th>\n",
       "      <th>Category</th>\n",
       "      <th>Value</th>\n",
       "      <th>Question</th>\n",
       "      <th>Answer</th>\n",
       "    </tr>\n",
       "  </thead>\n",
       "  <tbody>\n",
       "    <tr>\n",
       "      <th>0</th>\n",
       "      <td>4680</td>\n",
       "      <td>2004-12-31</td>\n",
       "      <td>Jeopardy!</td>\n",
       "      <td>HISTORY</td>\n",
       "      <td>$200</td>\n",
       "      <td>For the last 8 years of his life, Galileo was ...</td>\n",
       "      <td>Copernicus</td>\n",
       "    </tr>\n",
       "    <tr>\n",
       "      <th>1</th>\n",
       "      <td>4680</td>\n",
       "      <td>2004-12-31</td>\n",
       "      <td>Jeopardy!</td>\n",
       "      <td>ESPN's TOP 10 ALL-TIME ATHLETES</td>\n",
       "      <td>$200</td>\n",
       "      <td>No. 2: 1912 Olympian; football star at Carlisl...</td>\n",
       "      <td>Jim Thorpe</td>\n",
       "    </tr>\n",
       "    <tr>\n",
       "      <th>2</th>\n",
       "      <td>4680</td>\n",
       "      <td>2004-12-31</td>\n",
       "      <td>Jeopardy!</td>\n",
       "      <td>EVERYBODY TALKS ABOUT IT...</td>\n",
       "      <td>$200</td>\n",
       "      <td>The city of Yuma in this state has a record av...</td>\n",
       "      <td>Arizona</td>\n",
       "    </tr>\n",
       "    <tr>\n",
       "      <th>3</th>\n",
       "      <td>4680</td>\n",
       "      <td>2004-12-31</td>\n",
       "      <td>Jeopardy!</td>\n",
       "      <td>THE COMPANY LINE</td>\n",
       "      <td>$200</td>\n",
       "      <td>In 1963, live on \"The Art Linkletter Show\", th...</td>\n",
       "      <td>McDonald's</td>\n",
       "    </tr>\n",
       "    <tr>\n",
       "      <th>4</th>\n",
       "      <td>4680</td>\n",
       "      <td>2004-12-31</td>\n",
       "      <td>Jeopardy!</td>\n",
       "      <td>EPITAPHS &amp; TRIBUTES</td>\n",
       "      <td>$200</td>\n",
       "      <td>Signer of the Dec. of Indep., framer of the Co...</td>\n",
       "      <td>John Adams</td>\n",
       "    </tr>\n",
       "  </tbody>\n",
       "</table>\n",
       "</div>"
      ],
      "text/plain": [
       "   Show Number    Air Date      Round                         Category  Value  \\\n",
       "0         4680  2004-12-31  Jeopardy!                          HISTORY   $200   \n",
       "1         4680  2004-12-31  Jeopardy!  ESPN's TOP 10 ALL-TIME ATHLETES   $200   \n",
       "2         4680  2004-12-31  Jeopardy!      EVERYBODY TALKS ABOUT IT...   $200   \n",
       "3         4680  2004-12-31  Jeopardy!                 THE COMPANY LINE   $200   \n",
       "4         4680  2004-12-31  Jeopardy!              EPITAPHS & TRIBUTES   $200   \n",
       "\n",
       "                                            Question      Answer  \n",
       "0  For the last 8 years of his life, Galileo was ...  Copernicus  \n",
       "1  No. 2: 1912 Olympian; football star at Carlisl...  Jim Thorpe  \n",
       "2  The city of Yuma in this state has a record av...     Arizona  \n",
       "3  In 1963, live on \"The Art Linkletter Show\", th...  McDonald's  \n",
       "4  Signer of the Dec. of Indep., framer of the Co...  John Adams  "
      ]
     },
     "execution_count": 4,
     "metadata": {},
     "output_type": "execute_result"
    }
   ],
   "source": [
    "df = pd.read_csv('jeopardy.csv')\n",
    "df.head()"
   ]
  },
  {
   "cell_type": "code",
   "execution_count": 5,
   "metadata": {
    "collapsed": false
   },
   "outputs": [
    {
     "name": "stdout",
     "output_type": "stream",
     "text": [
      "Index(['ShowNumber', 'AirDate', 'Round', 'Category', 'Value', 'Question',\n",
      "       'Answer'],\n",
      "      dtype='object')\n"
     ]
    }
   ],
   "source": [
    "columns = []\n",
    "pattern = re.compile(r'\\s+')\n",
    "for each in df.columns:\n",
    "    sentence = re.sub(pattern, '', each)\n",
    "    columns.append(sentence)\n",
    "df.columns = columns\n",
    "print(df.columns)"
   ]
  },
  {
   "cell_type": "code",
   "execution_count": 6,
   "metadata": {
    "collapsed": false
   },
   "outputs": [],
   "source": [
    "def norm_text(col):\n",
    "    col = col.lower()\n",
    "    col = re.sub(r'[^\\w\\s]','',col)\n",
    "    return col\n",
    "df[\"clean_question\"] = df[\"Question\"].apply(norm_text) "
   ]
  },
  {
   "cell_type": "code",
   "execution_count": 7,
   "metadata": {
    "collapsed": false
   },
   "outputs": [],
   "source": [
    "df[\"clean_answer\"] = df[\"Answer\"].apply(norm_text)"
   ]
  },
  {
   "cell_type": "code",
   "execution_count": 15,
   "metadata": {
    "collapsed": true
   },
   "outputs": [],
   "source": [
    "def norm_int(col):\n",
    "    col = re.sub(r'[\\w\\s]',\"\",col)\n",
    "    try:\n",
    "        col = int(col)\n",
    "    except Exception:\n",
    "        col = 0\n",
    "    return col\n",
    "df[\"clean_value\"] = df[\"Value\"].apply(norm_int)"
   ]
  },
  {
   "cell_type": "code",
   "execution_count": 16,
   "metadata": {
    "collapsed": false
   },
   "outputs": [
    {
     "data": {
      "text/plain": [
       "19325   1984-09-21\n",
       "19301   1984-09-21\n",
       "19302   1984-09-21\n",
       "19303   1984-09-21\n",
       "19304   1984-09-21\n",
       "Name: AirDate, dtype: datetime64[ns]"
      ]
     },
     "execution_count": 16,
     "metadata": {},
     "output_type": "execute_result"
    }
   ],
   "source": [
    "air_date = df[\"AirDate\"]\n",
    "pd.to_datetime(air_date).head()"
   ]
  },
  {
   "cell_type": "code",
   "execution_count": 17,
   "metadata": {
    "collapsed": false
   },
   "outputs": [
    {
     "data": {
      "text/plain": [
       "0.060493257069335879"
      ]
     },
     "execution_count": 17,
     "metadata": {},
     "output_type": "execute_result"
    }
   ],
   "source": [
    "def answer_in_ques(row):\n",
    "    split_answer = row[\"clean_answer\"].split(\" \")\n",
    "    split_question = row[\"clean_question\"].split(\" \")\n",
    "    match_count = 0 \n",
    "    if \"the\" in split_answer:\n",
    "        split_answer.remove(\"the\")\n",
    "    if len(split_answer) == 0:\n",
    "        return 0\n",
    "    for each in split_answer:\n",
    "        if each in split_question:\n",
    "            match_count += 1\n",
    "    res = match_count / len(split_answer)\n",
    "    return res\n",
    "df[\"answer_in_question\"] = df.apply(answer_in_ques,axis=1)\n",
    "\n",
    "df[\"answer_in_question\"].mean()"
   ]
  },
  {
   "cell_type": "code",
   "execution_count": 18,
   "metadata": {
    "collapsed": false
   },
   "outputs": [
    {
     "data": {
      "text/html": [
       "<div>\n",
       "<table border=\"1\" class=\"dataframe\">\n",
       "  <thead>\n",
       "    <tr style=\"text-align: right;\">\n",
       "      <th></th>\n",
       "      <th>ShowNumber</th>\n",
       "      <th>AirDate</th>\n",
       "      <th>Round</th>\n",
       "      <th>Category</th>\n",
       "      <th>Value</th>\n",
       "      <th>Question</th>\n",
       "      <th>Answer</th>\n",
       "      <th>clean_question</th>\n",
       "      <th>clean_answer</th>\n",
       "      <th>answer_in_question</th>\n",
       "      <th>question_overlap</th>\n",
       "      <th>clean_value</th>\n",
       "    </tr>\n",
       "  </thead>\n",
       "  <tbody>\n",
       "    <tr>\n",
       "      <th>19325</th>\n",
       "      <td>10</td>\n",
       "      <td>1984-09-21</td>\n",
       "      <td>Final Jeopardy!</td>\n",
       "      <td>U.S. PRESIDENTS</td>\n",
       "      <td>None</td>\n",
       "      <td>Adventurous 26th president, he was 1st to ride...</td>\n",
       "      <td>Theodore Roosevelt</td>\n",
       "      <td>adventurous 26th president he was 1st to ride ...</td>\n",
       "      <td>theodore roosevelt</td>\n",
       "      <td>0.0</td>\n",
       "      <td>0.000000</td>\n",
       "      <td>0</td>\n",
       "    </tr>\n",
       "    <tr>\n",
       "      <th>19274</th>\n",
       "      <td>10</td>\n",
       "      <td>1984-09-21</td>\n",
       "      <td>Jeopardy!</td>\n",
       "      <td>GEOGRAPHY</td>\n",
       "      <td>$100</td>\n",
       "      <td>Formerly Formosa</td>\n",
       "      <td>Taiwan</td>\n",
       "      <td>formerly formosa</td>\n",
       "      <td>taiwan</td>\n",
       "      <td>0.0</td>\n",
       "      <td>0.000000</td>\n",
       "      <td>0</td>\n",
       "    </tr>\n",
       "    <tr>\n",
       "      <th>19275</th>\n",
       "      <td>10</td>\n",
       "      <td>1984-09-21</td>\n",
       "      <td>Jeopardy!</td>\n",
       "      <td>DOUBLE TALK</td>\n",
       "      <td>$100</td>\n",
       "      <td>Not a Hawaiian cow, but a dress worn by Hawaii...</td>\n",
       "      <td>a muumuu</td>\n",
       "      <td>not a hawaiian cow but a dress worn by hawaiia...</td>\n",
       "      <td>a muumuu</td>\n",
       "      <td>0.5</td>\n",
       "      <td>0.500000</td>\n",
       "      <td>0</td>\n",
       "    </tr>\n",
       "    <tr>\n",
       "      <th>19276</th>\n",
       "      <td>10</td>\n",
       "      <td>1984-09-21</td>\n",
       "      <td>Jeopardy!</td>\n",
       "      <td>\"JACKS\" OF ALL TRADES</td>\n",
       "      <td>$100</td>\n",
       "      <td>He celebrated his 39th birthday 41 times</td>\n",
       "      <td>Jack Benny</td>\n",
       "      <td>he celebrated his 39th birthday 41 times</td>\n",
       "      <td>jack benny</td>\n",
       "      <td>0.0</td>\n",
       "      <td>0.000000</td>\n",
       "      <td>0</td>\n",
       "    </tr>\n",
       "    <tr>\n",
       "      <th>19277</th>\n",
       "      <td>10</td>\n",
       "      <td>1984-09-21</td>\n",
       "      <td>Jeopardy!</td>\n",
       "      <td>SHIPS</td>\n",
       "      <td>$100</td>\n",
       "      <td>\"Unsinkable\" for most of its maiden voyage in ...</td>\n",
       "      <td>the Titanic</td>\n",
       "      <td>unsinkable for most of its maiden voyage in 1912</td>\n",
       "      <td>the titanic</td>\n",
       "      <td>0.0</td>\n",
       "      <td>0.333333</td>\n",
       "      <td>0</td>\n",
       "    </tr>\n",
       "  </tbody>\n",
       "</table>\n",
       "</div>"
      ],
      "text/plain": [
       "       ShowNumber     AirDate            Round               Category Value  \\\n",
       "19325          10  1984-09-21  Final Jeopardy!        U.S. PRESIDENTS  None   \n",
       "19274          10  1984-09-21        Jeopardy!              GEOGRAPHY  $100   \n",
       "19275          10  1984-09-21        Jeopardy!            DOUBLE TALK  $100   \n",
       "19276          10  1984-09-21        Jeopardy!  \"JACKS\" OF ALL TRADES  $100   \n",
       "19277          10  1984-09-21        Jeopardy!                  SHIPS  $100   \n",
       "\n",
       "                                                Question              Answer  \\\n",
       "19325  Adventurous 26th president, he was 1st to ride...  Theodore Roosevelt   \n",
       "19274                                   Formerly Formosa              Taiwan   \n",
       "19275  Not a Hawaiian cow, but a dress worn by Hawaii...            a muumuu   \n",
       "19276           He celebrated his 39th birthday 41 times          Jack Benny   \n",
       "19277  \"Unsinkable\" for most of its maiden voyage in ...         the Titanic   \n",
       "\n",
       "                                          clean_question        clean_answer  \\\n",
       "19325  adventurous 26th president he was 1st to ride ...  theodore roosevelt   \n",
       "19274                                   formerly formosa              taiwan   \n",
       "19275  not a hawaiian cow but a dress worn by hawaiia...            a muumuu   \n",
       "19276           he celebrated his 39th birthday 41 times          jack benny   \n",
       "19277   unsinkable for most of its maiden voyage in 1912         the titanic   \n",
       "\n",
       "       answer_in_question  question_overlap  clean_value  \n",
       "19325                 0.0          0.000000            0  \n",
       "19274                 0.0          0.000000            0  \n",
       "19275                 0.5          0.500000            0  \n",
       "19276                 0.0          0.000000            0  \n",
       "19277                 0.0          0.333333            0  "
      ]
     },
     "execution_count": 18,
     "metadata": {},
     "output_type": "execute_result"
    }
   ],
   "source": [
    "df.sort_values('AirDate', ascending=True, inplace=True)\n",
    "df.head()"
   ]
  },
  {
   "cell_type": "code",
   "execution_count": 19,
   "metadata": {
    "collapsed": false
   },
   "outputs": [
    {
     "data": {
      "text/plain": [
       "0.68949473172267706"
      ]
     },
     "execution_count": 19,
     "metadata": {},
     "output_type": "execute_result"
    }
   ],
   "source": [
    "question_overlap = []\n",
    "terms_used = []\n",
    "for i, row in df.iterrows():\n",
    "  split_question = row['clean_question'].split(' ')\n",
    "  split_question = [q for q in split_question if len(q) > 5]\n",
    "  match_count = 0\n",
    "  for q in split_question:\n",
    "    if q in terms_used:\n",
    "      match_count += 1\n",
    "    else: terms_used.append(q)\n",
    "  if len(split_question) > 0:\n",
    "    question_overlap.append(match_count / len(split_question))\n",
    "  else:\n",
    "    question_overlap.append(0)\n",
    "df['question_overlap'] = question_overlap\n",
    "df['question_overlap'].mean()"
   ]
  },
  {
   "cell_type": "code",
   "execution_count": 20,
   "metadata": {
    "collapsed": true
   },
   "outputs": [],
   "source": [
    "def value_800(row):\n",
    "  value = 0\n",
    "  if row['clean_value'] > 800:\n",
    "    value = 1\n",
    "  else:\n",
    "    value = 0\n",
    "  return(value)"
   ]
  },
  {
   "cell_type": "code",
   "execution_count": 21,
   "metadata": {
    "collapsed": false
   },
   "outputs": [
    {
     "data": {
      "text/plain": [
       "19325    0\n",
       "19274    0\n",
       "19275    0\n",
       "19276    0\n",
       "19277    0\n",
       "Name: high_value, dtype: int64"
      ]
     },
     "execution_count": 21,
     "metadata": {},
     "output_type": "execute_result"
    }
   ],
   "source": [
    "df['high_value'] = df.apply(lambda row: value_800(row), axis=1)\n",
    "df['high_value'].head()"
   ]
  },
  {
   "cell_type": "code",
   "execution_count": 22,
   "metadata": {
    "collapsed": true
   },
   "outputs": [],
   "source": [
    "def question_repeat(str):\n",
    "  low_count = 0\n",
    "  high_count = 0\n",
    "  for i, row in df.iterrows():\n",
    "    if str in row['clean_question'].split(' '):\n",
    "      if row['high_value']:\n",
    "        high_count += 1\n",
    "      else:\n",
    "        low_count += 1\n",
    "  return(high_count, low_count)"
   ]
  },
  {
   "cell_type": "code",
   "execution_count": 23,
   "metadata": {
    "collapsed": false
   },
   "outputs": [
    {
     "data": {
      "text/plain": [
       "[(0, 3),\n",
       " (0, 249),\n",
       " (0, 5),\n",
       " (0, 6),\n",
       " (0, 13),\n",
       " (0, 3),\n",
       " (0, 11),\n",
       " (0, 21),\n",
       " (0, 24),\n",
       " (0, 2)]"
      ]
     },
     "execution_count": 23,
     "metadata": {},
     "output_type": "execute_result"
    }
   ],
   "source": [
    "observed_expected = []\n",
    "comparison_terms = terms_used[:10]\n",
    "for term in comparison_terms:\n",
    "  observed_expected.append(question_repeat(term))\n",
    "observed_expected"
   ]
  },
  {
   "cell_type": "code",
   "execution_count": 24,
   "metadata": {
    "collapsed": false
   },
   "outputs": [
    {
     "data": {
      "text/plain": [
       "0"
      ]
     },
     "execution_count": 24,
     "metadata": {},
     "output_type": "execute_result"
    }
   ],
   "source": [
    "high_value_count = len(df[df['high_value'] == 1])\n",
    "high_value_count"
   ]
  },
  {
   "cell_type": "code",
   "execution_count": 26,
   "metadata": {
    "collapsed": false
   },
   "outputs": [],
   "source": [
    "low_value_count = len(df[df['high_value'] == 0])\n"
   ]
  },
  {
   "cell_type": "code",
   "execution_count": 28,
   "metadata": {
    "collapsed": false
   },
   "outputs": [
    {
     "name": "stdout",
     "output_type": "stream",
     "text": [
      "[0 3] [ 0.  3.]\n",
      "[  0 249] [   0.  249.]\n",
      "[0 5] [ 0.  5.]\n",
      "[0 6] [ 0.  6.]\n",
      "[ 0 13] [  0.  13.]\n",
      "[0 3] [ 0.  3.]\n",
      "[ 0 11] [  0.  11.]\n",
      "[ 0 21] [  0.  21.]\n",
      "[ 0 24] [  0.  24.]\n",
      "[0 2] [ 0.  2.]\n"
     ]
    },
    {
     "name": "stderr",
     "output_type": "stream",
     "text": [
      "/dataquest/system/env/python3/lib/python3.4/site-packages/scipy/stats/stats.py:4350: RuntimeWarning: invalid value encountered in true_divide\n",
      "  terms = (f_obs - f_exp)**2 / f_exp\n"
     ]
    },
    {
     "data": {
      "text/plain": [
       "[Power_divergenceResult(statistic=nan, pvalue=nan),\n",
       " Power_divergenceResult(statistic=nan, pvalue=nan),\n",
       " Power_divergenceResult(statistic=nan, pvalue=nan),\n",
       " Power_divergenceResult(statistic=nan, pvalue=nan),\n",
       " Power_divergenceResult(statistic=nan, pvalue=nan),\n",
       " Power_divergenceResult(statistic=nan, pvalue=nan),\n",
       " Power_divergenceResult(statistic=nan, pvalue=nan),\n",
       " Power_divergenceResult(statistic=nan, pvalue=nan),\n",
       " Power_divergenceResult(statistic=nan, pvalue=nan),\n",
       " Power_divergenceResult(statistic=nan, pvalue=nan)]"
      ]
     },
     "execution_count": 28,
     "metadata": {},
     "output_type": "execute_result"
    }
   ],
   "source": [
    "chi_squared = []\n",
    "for e in observed_expected:\n",
    "  total = sum(e)\n",
    "  total_prob = total / df.shape[0]\n",
    "  expected_high_count = total_prob * high_value_count\n",
    "  expected_low_count = total_prob * low_value_count\n",
    "  expected = np.array([expected_high_count, expected_low_count])\n",
    "  observed = np.array([e[0], e[1]])\n",
    "  print(observed, expected)\n",
    "  chi_squared.append(stats.chisquare(e, expected))\n",
    "#chi_squared"
   ]
  },
  {
   "cell_type": "code",
   "execution_count": null,
   "metadata": {
    "collapsed": true
   },
   "outputs": [],
   "source": []
  }
 ],
 "metadata": {
  "kernelspec": {
   "display_name": "Python 3",
   "language": "python",
   "name": "python3"
  },
  "language_info": {
   "codemirror_mode": {
    "name": "ipython",
    "version": 3
   },
   "file_extension": ".py",
   "mimetype": "text/x-python",
   "name": "python",
   "nbconvert_exporter": "python",
   "pygments_lexer": "ipython3",
   "version": "3.4.3"
  }
 },
 "nbformat": 4,
 "nbformat_minor": 0
}
